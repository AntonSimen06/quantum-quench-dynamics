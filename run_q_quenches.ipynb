{
 "cells": [
  {
   "cell_type": "code",
   "execution_count": null,
   "metadata": {},
   "outputs": [],
   "source": [
    "from dwave.system import FixedEmbeddingComposite, DWaveSampler\n",
    "import numpy as np\n",
    "import pickle\n",
    "\n",
    "\n",
    "local_dir = \"your local directory to save results\"\n",
    "token = \"your d-wave token\"\n",
    "hamiltonian = \"data_5.pkl\"\n",
    "\n",
    "data = []\n",
    "with open(f\"embedding_files/{hamiltonian}\", 'rb') as fr:\n",
    "    try:\n",
    "        while True:\n",
    "            data.append(pickle.load(fr))\n",
    "    except EOFError:\n",
    "        pass\n",
    "\n",
    "num_reads = 2000\n",
    "annealing_time = 0.02 #fast regime\n",
    "\n",
    "dwave_hw = data[0]['solver']\n",
    "qpu = DWaveSampler(solver=dwave_hw, token=token)\n",
    "\n",
    "for instance in data:\n",
    "    sampler_fixed = FixedEmbeddingComposite(qpu, instance[\"embedding\"]) \n",
    "    sampleset = sampler_fixed.sample_ising(h={}, J=instance[\"J\"], \n",
    "                                           num_reads=num_reads, \n",
    "                                           annealing_time=annealing_time,\n",
    "                                           fast_anneal=True,\n",
    "                                           auto_scale=False, \n",
    "                                           answer_mode=\"raw\",\n",
    "                                           flux_biases=instance[\"h\"],\n",
    "                                           chain_strength=2 \n",
    "                                        )\n",
    "    sampleset_qa = sampleset.aggregate()\n",
    "    \n",
    "    # Save results into local directory\n",
    "    result = {'sampleset': sampleset_qa}\n",
    "    with open(f\"{local_dir}/results.pkl\", 'ab') as f:\n",
    "        pickle.dump(result, f)"
   ]
  }
 ],
 "metadata": {
  "kernelspec": {
   "display_name": ".fqa",
   "language": "python",
   "name": "python3"
  },
  "language_info": {
   "name": "python",
   "version": "3.11.4"
  }
 },
 "nbformat": 4,
 "nbformat_minor": 2
}
